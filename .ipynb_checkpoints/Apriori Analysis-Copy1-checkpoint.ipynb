{
 "cells": [
  {
   "cell_type": "code",
   "execution_count": 1,
   "metadata": {},
   "outputs": [
    {
     "name": "stdout",
     "output_type": "stream",
     "text": [
      "D:\\Code\\Lynda_DSF_DataMining\\Ch6\\06_04\n"
     ]
    }
   ],
   "source": [
    "cd D:\\Code\\Lynda_DSF_DataMining\\Ch6\\06_04"
   ]
  },
  {
   "cell_type": "code",
   "execution_count": 2,
   "metadata": {},
   "outputs": [
    {
     "name": "stdout",
     "output_type": "stream",
     "text": [
      " Volume in drive D is Storage\n",
      " Volume Serial Number is B6BC-1F3F\n",
      "\n",
      " Directory of D:\\Code\\Lynda_DSF_DataMining\\Ch6\\06_04\n",
      "\n",
      "28/06/2016  06:06 AM    <DIR>          .\n",
      "28/06/2016  06:06 AM    <DIR>          ..\n",
      "27/05/2016  10:01 AM             3,242 apriori.py\n",
      "27/05/2016  10:01 AM             3,537 DM_06_04.ipynb\n",
      "27/05/2016  10:01 AM           500,843 groceries.csv\n",
      "               3 File(s)        507,622 bytes\n",
      "               2 Dir(s)  1,198,518,177,792 bytes free\n"
     ]
    }
   ],
   "source": [
    "ls"
   ]
  },
  {
   "cell_type": "code",
   "execution_count": null,
   "metadata": {
    "collapsed": true
   },
   "outputs": [],
   "source": []
  }
 ],
 "metadata": {
  "kernelspec": {
   "display_name": "Python 3",
   "language": "python",
   "name": "python3"
  },
  "language_info": {
   "codemirror_mode": {
    "name": "ipython",
    "version": 3
   },
   "file_extension": ".py",
   "mimetype": "text/x-python",
   "name": "python",
   "nbconvert_exporter": "python",
   "pygments_lexer": "ipython3",
   "version": "3.6.1"
  }
 },
 "nbformat": 4,
 "nbformat_minor": 2
}
